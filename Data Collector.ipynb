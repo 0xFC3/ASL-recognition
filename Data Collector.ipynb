{
 "cells": [
  {
   "cell_type": "code",
   "execution_count": 7,
   "metadata": {},
   "outputs": [],
   "source": [
    "##gathering more data\n",
    "import cv2\n",
    "import os\n",
    "\n",
    "path = 'data-created/7/'\n",
    "number_of_images = 800\n",
    "\n",
    "os.mkdir(path)\n",
    "cam = cv2.VideoCapture(0)\n",
    "def takeImages(path, number_of_images):\n",
    "    for i in range(number_of_images):\n",
    "        check, frame = cam.read()\n",
    "        cv2.imshow('Gather Data', frame)\n",
    "        cv2.waitKey(10)\n",
    "        cv2.imwrite(path + str(i) + '.jpg', frame)\n",
    "\n",
    "    cv2.destroyAllWindows()\n",
    "    cam.release()\n",
    "takeImages(path, number_of_images)"
   ]
  },
  {
   "cell_type": "code",
   "execution_count": 8,
   "metadata": {},
   "outputs": [],
   "source": [
    "##make data go into train and valid set\n",
    "newpathtrain = 'data-batch/train/7/'\n",
    "newpathval = 'data-batch/valid/7/'\n",
    "for i in range(number_of_images):\n",
    "    if i < number_of_images*0.8:\n",
    "        os.rename(path + str(i) + '.jpg', newpathtrain + str(i + 4000) + '.jpg')\n",
    "    else:\n",
    "        os.rename(path + str(i) + '.jpg', newpathval + str(i + 4000) + '.jpg')"
   ]
  },
  {
   "cell_type": "code",
   "execution_count": null,
   "metadata": {},
   "outputs": [],
   "source": []
  }
 ],
 "metadata": {
  "kernelspec": {
   "display_name": "Python 3",
   "language": "python",
   "name": "python3"
  },
  "language_info": {
   "codemirror_mode": {
    "name": "ipython",
    "version": 3
   },
   "file_extension": ".py",
   "mimetype": "text/x-python",
   "name": "python",
   "nbconvert_exporter": "python",
   "pygments_lexer": "ipython3",
   "version": "3.7.1"
  }
 },
 "nbformat": 4,
 "nbformat_minor": 2
}
